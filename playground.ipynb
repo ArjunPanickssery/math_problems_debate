{
 "cells": [
  {
   "cell_type": "code",
   "execution_count": 6,
   "metadata": {},
   "outputs": [],
   "source": [
    "from llm_utils import *\n",
    "from mun import *"
   ]
  },
  {
   "cell_type": "code",
   "execution_count": 2,
   "metadata": {},
   "outputs": [
    {
     "name": "stdout",
     "output_type": "stream",
     "text": [
      "{'model': 'gpt-4o-2024-05-13'} Approx num tokens: 54\n"
     ]
    },
    {
     "data": {
      "text/plain": [
       "{'0': 0.0,\n",
       " '1': 0.0,\n",
       " '2': 0.18685806219726392,\n",
       " '3': 0.16490166111204504,\n",
       " '4': 0.21173790294810305,\n",
       " '5': 0.0,\n",
       " '6': 0.0,\n",
       " '7': 0.3080768309387518,\n",
       " '8': 0.0,\n",
       " '9': 0.1284255428038361}"
      ]
     },
     "execution_count": 2,
     "metadata": {},
     "output_type": "execute_result"
    }
   ],
   "source": [
    "get_llm_response('Take a random guess as to what the 1,000,001st digit of pi is. Answer exactly \"0\", \"1\", ... or \"9\", with nothing else in your response.', return_probs_for=[str(n) for n in range(10)])"
   ]
  },
  {
   "cell_type": "code",
   "execution_count": 7,
   "metadata": {},
   "outputs": [],
   "source": [
    "ques = Question(\n",
    "    question = 'Who will be the 2024 presidential winner?',\n",
    "    possible_answers=[Answer('A', 'Donald Trump'), Answer('B', 'not Donald Trump')],\n",
    "    correct_answer=Answer('A', 'Donald Trump'),\n",
    ")"
   ]
  },
  {
   "cell_type": "code",
   "execution_count": 10,
   "metadata": {},
   "outputs": [
    {
     "name": "stdout",
     "output_type": "stream",
     "text": [
      "{'model': 'gpt-4o-2024-05-13'} Approx num tokens: 177\n",
      "{'model': 'gpt-4o-2024-05-13'} Approx num tokens: 1303\n",
      "{'model': 'gpt-4o-2024-05-13'} Approx num tokens: 2777\n"
     ]
    }
   ],
   "source": [
    "j = Judge()\n",
    "d = Debate(\n",
    "    judge = Judge(),\n",
    "    debater_1 = Debater(),\n",
    "    debater_2 = Debater(),\n",
    ")\n",
    "trans = d.run(ques)"
   ]
  },
  {
   "cell_type": "code",
   "execution_count": 11,
   "metadata": {},
   "outputs": [
    {
     "name": "stdout",
     "output_type": "stream",
     "text": [
      "QUESTION: Who will be the 2024 presidential winner?\n",
      "POSSIBLE ANSWERS:\n",
      "A: Donald Trump\n",
      "B: not Donald Trump\n",
      "## ARGUMENTS MADE SO FAR:\n",
      "\n",
      "### ARGUMENT FOR B:\n",
      "To argue that the 2024 presidential winner will not be Donald Trump, it’s essential to consider a multitude of factors encompassing changing political dynamics, legal challenges, public sentiment, and emerging candidates.\n",
      "\n",
      "### 1. Legal Challenges and Controversies\n",
      "Donald Trump is embroiled in multiple legal investigations and controversies. These ongoing legal battles could potentially lead to significant consequences, including disqualification from running for office. The cumulative effect of these legal issues not only distracts but also tarnishes his public image, making it harder to garner broad support across the electorate.\n",
      "\n",
      "### 2. Voter Fatigue and Public Sentiment\n",
      "Over the years, there has been noticeable voter fatigue concerning Trump's polarizing tenure in office. Many voters, including independents and moderate Republicans, are seeking fresh leadership and new perspectives. Trump's brand of politics, while still holding a solid base, may not appeal to a broader electorate in 2024, which is essential for winning a national election.\n",
      "\n",
      "### 3. Demographic Shifts and Youth Vote\n",
      "The U.S. is experiencing significant demographic changes, with younger, more diverse voters becoming a more influential component of the electorate. This demographic has shown a tendency to support more progressive candidates who focus on issues like climate change, racial equality, and economic reform. Historically, these voters have not aligned with Trump’s agenda, creating a substantial challenge for him to secure their votes.\n",
      "\n",
      "### 4. Emergence of Strong Alternatives\n",
      "The political landscape is ripe with potential candidates from both major parties who can present a compelling alternative to Trump. From rising stars within the Democratic party to pragmatic Republicans who distance themselves from Trump's brand of politics, the field is likely to be crowded with viable candidates who can capture the public's imagination and support. Figures like Ron DeSantis or Nikki Haley in the Republican party or a strong Democratic incumbent or newcomer could dilute Trump's influence.\n",
      "\n",
      "### 5. Party Dynamics and Internal Struggles\n",
      "The Republican party is experiencing internal conflicts regarding its direction and future. While Trump retains influence over a faction of the party, there’s a growing contingent pushing for a post-Trump era that can appeal to a broader base. This intraparty struggle may lead to a divided Republican base during the primaries, weakening Trump's standing and making it harder for him to secure the nomination or the general election.\n",
      "\n",
      "### 6. Strategic Errors and Campaign Fatigue\n",
      "Trump’s previous campaign strategies, though effective in 2016, did not yield the same results in 2020. Repeating the same tactics or strategies might not resonate with an electorate that has evolved and faced new challenges over the past years. Moreover, any strategic errors or a poorly managed campaign could significantly hinder his chances of winning in 2024.\n",
      "\n",
      "### Conclusion\n",
      "While Donald Trump remains a significant figure in American politics, a multitude of factors—including legal issues, voter sentiment, demographic shifts, emerging strong alternatives, internal party dynamics, and potential campaign missteps—strongly suggest that he will not emerge as the winner of the 2024 presidential election.\n",
      "\n",
      "### ARGUMENT FOR A:\n",
      "### ARGUMENT FOR A: Donald Trump\n",
      "\n",
      "Despite the arguments suggesting that Donald Trump will not win the 2024 presidential election, there are compelling reasons to think that he stands a strong chance of emerging victorious. Here are the primary factors bolstering the argument that Donald Trump will be the 2024 presidential winner:\n",
      "\n",
      "### 1. Loyal and Energized Base\n",
      "Donald Trump enjoys an immensely loyal and energized base of supporters who have remained steadfast in their support through thick and thin. This group is not only large but also highly motivated, often turning out to vote in higher numbers than other segments of the electorate. Their unwavering enthusiasm can provide a significant advantage in both the primaries and general election. Base loyalty is crucial in a political era marked by declining voter engagement, and Trump has proven he can energize his supporters like few others.\n",
      "\n",
      "### 2. Strong Fundraising Capabilities\n",
      "Trump is a formidable fundraiser, having built an extensive donor network over the years. His ability to mobilize financial resources can provide him with a considerable edge in campaign advertising, outreach, and voter mobilization efforts. Access to substantial funds will allow his campaign to maintain a constant presence in key battleground states, boosting voter turnout and increasing his chances of winning.\n",
      "\n",
      "### 3. Media Savvy and Dominance\n",
      "No other candidate can match Trump's aptitude for commanding media attention. His presence in the news cycle is almost constant, and his adept use of social media platforms and rallies ensures that his message reaches millions. During the 2024 campaign, Trump's ability to dominate the narrative could overshadow his opponents. This media savvy can translate into increased voter awareness and support, particularly among undecided voters.\n",
      "\n",
      "### 4. Economic Messaging and Policies\n",
      "Trump's economic policies, such as tax cuts and deregulation, have appealed to a broad spectrum of voters, particularly business owners and working-class Americans. Many voters perceive him as a candidate who prioritizes economic growth and job creation. If he can effectively communicate his past successes and future plans, he could regain the support of voters who prioritize economic issues.\n",
      "\n",
      "### 5. Decline in Opposition Enthusiasm\n",
      "The opposition, particularly the Democratic party, may face challenges in maintaining the same level of enthusiasm and voter mobilization as seen in previous elections. Factors such as voter fatigue, dissatisfaction with current leadership, or internal party divisions can weaken the opposition's resolve. Trump’s capacity to maintain high energy levels amongst his supporters in contrast to a potentially complacent opposition can tilts the scales in his favor.\n",
      "\n",
      "### 6. Potential Weaknesses in Rivals\n",
      "Potential rivals, whether from the Democratic party or within the GOP, may lack the same level of national recognition, charisma, and campaigning prowess as Trump. For instance, a divided Republican primary could see Trump emerging as the strongest candidate due to his solid base. On the Democratic side, potential candidates may struggle to galvanize the electorate or may falter under the pressures of a rigorous campaign.\n",
      "\n",
      "### 7. Nationalist and Populist Sentiment\n",
      "The nationalist and populist sentiments that fueled Trump’s rise in 2016 have not dissipated. In fact, these sentiments might have intensified given the prevailing political and social climate. Trump’s ability to tap into these emotions and present himself as the champion of the ‘forgotten man’ can resonate deeply with a significant portion of the electorate.\n",
      "\n",
      "### 8. History of Comebacks\n",
      "Donald Trump has a proven track record of political comebacks. Written off by many pundits in the past, he has displayed resilience and an uncanny ability to bounce back from political setbacks. His tenacity and experience in navigating political storms could position him strongly for a victorious run in 2024.\n",
      "\n",
      "### Conclusion\n",
      "In conclusion, Donald Trump’s unwavering and energized support base, strong fundraising capabilities, media dominance, effective economic messaging, potential opposition weaknesses, ongoing nationalist and populist sentiments, and history of political comebacks collectively form a formidable case for his potential victory in the 2024 presidential election. Despite the challenges, these factors position him as a strong contender with a significant chance of winning the presidency again.\n",
      "\n",
      "\n",
      "## JUDGE PROBABILITY ESTIMATES:\n",
      "{'A': 0.0011695100817739692, 'B': 0.9988304899182261}\n"
     ]
    }
   ],
   "source": [
    "print(trans)"
   ]
  }
 ],
 "metadata": {
  "kernelspec": {
   "display_name": "Python 3",
   "language": "python",
   "name": "python3"
  },
  "language_info": {
   "codemirror_mode": {
    "name": "ipython",
    "version": 3
   },
   "file_extension": ".py",
   "mimetype": "text/x-python",
   "name": "python",
   "nbconvert_exporter": "python",
   "pygments_lexer": "ipython3",
   "version": "3.11.0"
  }
 },
 "nbformat": 4,
 "nbformat_minor": 2
}
