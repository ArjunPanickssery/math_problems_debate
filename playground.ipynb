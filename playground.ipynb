{
 "cells": [
  {
   "cell_type": "code",
   "execution_count": 1,
   "metadata": {},
   "outputs": [
    {
     "name": "stderr",
     "output_type": "stream",
     "text": [
      "c:\\Users\\abhim\\AppData\\Local\\Programs\\Python\\Python311\\Lib\\site-packages\\requests\\__init__.py:102: RequestsDependencyWarning: urllib3 (1.26.18) or chardet (5.2.0)/charset_normalizer (2.0.10) doesn't match a supported version!\n",
      "  warnings.warn(\"urllib3 ({}) or chardet ({})/charset_normalizer ({}) doesn't match a supported \"\n"
     ]
    }
   ],
   "source": [
    "from llm_utils import *"
   ]
  },
  {
   "cell_type": "code",
   "execution_count": 3,
   "metadata": {},
   "outputs": [
    {
     "name": "stdout",
     "output_type": "stream",
     "text": [
      "{'model': 'gpt-4o-2024-05-13', 'logprobs': True, 'top_logprobs': 5} Approx num tokens: 54\n"
     ]
    },
    {
     "data": {
      "text/plain": [
       "{'0': 0.0,\n",
       " '1': 0.170294934078446,\n",
       " '2': 0.21866302368988816,\n",
       " '3': 0.170294934078446,\n",
       " '4': 0.0,\n",
       " '5': 0.0,\n",
       " '6': 0.0,\n",
       " '7': 0.19296944111610828,\n",
       " '8': 0.0,\n",
       " '9': 0.24777766703711152}"
      ]
     },
     "execution_count": 3,
     "metadata": {},
     "output_type": "execute_result"
    }
   ],
   "source": [
    "get_llm_response('Take a random guess as to what the 1,000,001st digit of pi is. Answer exactly \"0\", \"1\", ... or \"9\", with nothing else in your response.', return_probs_for=[str(n) for n in range(10)], logprobs=True, top_logprobs=5)"
   ]
  },
  {
   "cell_type": "code",
   "execution_count": null,
   "metadata": {},
   "outputs": [],
   "source": []
  }
 ],
 "metadata": {
  "kernelspec": {
   "display_name": "Python 3",
   "language": "python",
   "name": "python3"
  },
  "language_info": {
   "codemirror_mode": {
    "name": "ipython",
    "version": 3
   },
   "file_extension": ".py",
   "mimetype": "text/x-python",
   "name": "python",
   "nbconvert_exporter": "python",
   "pygments_lexer": "ipython3",
   "version": "3.11.0"
  }
 },
 "nbformat": 4,
 "nbformat_minor": 2
}
