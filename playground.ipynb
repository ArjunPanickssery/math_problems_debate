{
 "cells": [
  {
   "cell_type": "code",
   "execution_count": 7,
   "metadata": {},
   "outputs": [],
   "source": [
    "from llm_utils import *\n",
    "from mun import *"
   ]
  },
  {
   "cell_type": "code",
   "execution_count": 8,
   "metadata": {},
   "outputs": [
    {
     "name": "stdout",
     "output_type": "stream",
     "text": [
      "{'model': 'gpt-4o-2024-05-13'} Approx num tokens: 54\n"
     ]
    },
    {
     "data": {
      "text/plain": [
       "{'0': 0.0,\n",
       " '1': 0.170294934078446,\n",
       " '2': 0.21866302368988816,\n",
       " '3': 0.0,\n",
       " '4': 0.170294934078446,\n",
       " '5': 0.0,\n",
       " '6': 0.0,\n",
       " '7': 0.19296944111610828,\n",
       " '8': 0.0,\n",
       " '9': 0.24777766703711152}"
      ]
     },
     "execution_count": 8,
     "metadata": {},
     "output_type": "execute_result"
    }
   ],
   "source": [
    "get_llm_response('Take a random guess as to what the 1,000,001st digit of pi is. Answer exactly \"0\", \"1\", ... or \"9\", with nothing else in your response.', return_probs_for=[str(n) for n in range(10)])"
   ]
  },
  {
   "cell_type": "code",
   "execution_count": 9,
   "metadata": {},
   "outputs": [],
   "source": [
    "ques = Question(\n",
    "    question = 'Who will be the Republican nominee for the 2024 presidential election?',\n",
    "    possible_answers=[Answer('A', 'Donald Trump'), Answer('B', 'not Donald Trump')],\n",
    "    correct_answer=Answer('A', 'Donald Trump'),\n",
    ")"
   ]
  },
  {
   "cell_type": "code",
   "execution_count": 10,
   "metadata": {},
   "outputs": [
    {
     "name": "stdout",
     "output_type": "stream",
     "text": [
      "NEW ROUND\n",
      "{'model': 'gpt-4o-2024-05-13'} Approx num tokens: 186\n"
     ]
    }
   ],
   "source": [
    "j = Judge()\n",
    "d = Debate(\n",
    "    judge = Judge(),\n",
    "    debater_1 = Debater(),\n",
    "    debater_2 = Debater(),\n",
    ")\n",
    "trans = d.run(ques)"
   ]
  },
  {
   "cell_type": "code",
   "execution_count": 6,
   "metadata": {},
   "outputs": [
    {
     "name": "stdout",
     "output_type": "stream",
     "text": [
      "{'model': 'gpt-4o-2024-05-13'} Approx num tokens: 186\n",
      "In considering who will be the Republican nominee for the 2024 presidential election, it becomes evident that Donald Trump is the most compelling choice. There are several key reasons to strongly argue in favor of this conclusion:\n",
      "\n",
      "1. **Base Loyalty and Popularity**: Donald Trump has maintained a fervent and dedicated base of supporters. His popularity among Republican voters remains remarkably high, and numerous polls have consistently shown him as a favorite for the nomination. Unlike any other potential candidate, Trump's influence over the party is unparalleled, with a solid core of supporters who are highly motivated to vote and campaign for him.\n",
      "\n",
      "2. **Fundraising Capability**: Trump's ability to raise funds is unmatched within the Republican Party. His fundraising prowess not only ensures he has the financial resources necessary for a robust campaign but also highlights the widespread support he enjoys among small donors. This financial backing is crucial for sustaining a long and arduous primary campaign.\n",
      "\n",
      "3. **Media Savvy and Name Recognition**: Trump's name recognition and media mastery give him an undeniable edge. Having been a prominent figure in both business and politics for decades, Trump knows how to command attention and shape public discourse. His ability to dominate media coverage, whether through traditional news outlets or social media, is a potent tool that keeps him at the forefront of political conversation.\n",
      "\n",
      "4. **Policy and Platform Consistency**: Trump has clearly articulated positions that align with a significant portion of the Republican base. His stances on immigration, economic policy, and national security resonate deeply with Republican voters. Trump's previous term offers a defined record that his supporters believe in and wish to see continued, ensuring a platform continuity that appeals to those wary of political uncertainty.\n",
      "\n",
      "5. **Endorsements and Political Influence**: Trump retains the endorsement of several influential figures and political groups within the Republican Party. His endorsement often carries significant weight, swaying primary voters and consolidating support. The trend of Trump-endorsed candidates performing well in primaries is a testament to his ongoing influence and hints at the broader party unity he can orchestrate.\n",
      "\n",
      "6. **Strategic Acumen**: Having already run two presidential campaigns, Trump brings a wealth of strategic experience. His 2016 campaign, in particular, demonstrated an ability to outperform expectations and leverage every tactical advantage. This experience equips him with the insights necessary to navigate the competitive landscape of a presidential primary effectively.\n",
      "\n",
      "Considering these factors, the argument that Donald Trump will be the Republican nominee for the 2024 presidential election stands on firm ground. His enduring popularity, unwavering base support, formidable fundraising ability, media dominance, clear political alignment with conservative values, and strategic expertise make him the most formidable candidate to secure the nomination.\n",
      "---\n",
      "QUESTION: Who will be the Republican nominee for the 2024 presidential election?\n",
      "POSSIBLE ANSWERS:\n",
      "A: Donald Trump\n",
      "B: not Donald Trump\n"
     ]
    }
   ],
   "source": [
    "d1 = Debater()\n",
    "d2 = Debater()\n",
    "\n",
    "trans = Transcript(ques)\n",
    "debater_1_item = d1(ques.possible_answers[0], trans)\n",
    "print(debater_1_item)\n",
    "trans.append(debater_1_item)\n",
    "print('---')\n",
    "print(trans)"
   ]
  }
 ],
 "metadata": {
  "kernelspec": {
   "display_name": "Python 3",
   "language": "python",
   "name": "python3"
  },
  "language_info": {
   "codemirror_mode": {
    "name": "ipython",
    "version": 3
   },
   "file_extension": ".py",
   "mimetype": "text/x-python",
   "name": "python",
   "nbconvert_exporter": "python",
   "pygments_lexer": "ipython3",
   "version": "3.11.0"
  }
 },
 "nbformat": 4,
 "nbformat_minor": 2
}
