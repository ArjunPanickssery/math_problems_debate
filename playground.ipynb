{
 "cells": [
  {
   "cell_type": "code",
   "execution_count": 1,
   "metadata": {},
   "outputs": [
    {
     "name": "stderr",
     "output_type": "stream",
     "text": [
      "c:\\Users\\abhim\\AppData\\Local\\Programs\\Python\\Python311\\Lib\\site-packages\\requests\\__init__.py:102: RequestsDependencyWarning: urllib3 (1.26.18) or chardet (5.2.0)/charset_normalizer (2.0.10) doesn't match a supported version!\n",
      "  warnings.warn(\"urllib3 ({}) or chardet ({})/charset_normalizer ({}) doesn't match a supported \"\n"
     ]
    }
   ],
   "source": [
    "from llm_utils import *\n",
    "from mun import *"
   ]
  },
  {
   "cell_type": "code",
   "execution_count": 2,
   "metadata": {},
   "outputs": [
    {
     "name": "stdout",
     "output_type": "stream",
     "text": [
      "{'model': 'gpt-4o-2024-05-13'} Approx num tokens: 54\n"
     ]
    },
    {
     "data": {
      "text/plain": [
       "{'0': 0.0,\n",
       " '1': 0.0,\n",
       " '2': 0.1886909578627907,\n",
       " '3': 0.1886909578627907,\n",
       " '4': 0.2422840100233787,\n",
       " '5': 0.0,\n",
       " '6': 0.0,\n",
       " '7': 0.21381488839140678,\n",
       " '8': 0.0,\n",
       " '9': 0.16651918585963318}"
      ]
     },
     "execution_count": 2,
     "metadata": {},
     "output_type": "execute_result"
    }
   ],
   "source": [
    "get_llm_response('Take a random guess as to what the 1,000,001st digit of pi is. Answer exactly \"0\", \"1\", ... or \"9\", with nothing else in your response.', return_probs_for=[str(n) for n in range(10)])"
   ]
  },
  {
   "cell_type": "code",
   "execution_count": 3,
   "metadata": {},
   "outputs": [],
   "source": [
    "ques = Question(\n",
    "    question = 'Who will be the Republican nominee for the 2024 presidential election?',\n",
    "    possible_answers=[Answer('A', 'Donald Trump'), Answer('B', 'not Donald Trump')],\n",
    "    correct_answer=Answer('A', 'Donald Trump'),\n",
    ")"
   ]
  },
  {
   "cell_type": "code",
   "execution_count": 4,
   "metadata": {},
   "outputs": [
    {
     "name": "stdout",
     "output_type": "stream",
     "text": [
      "NEW ROUND\n",
      "{'model': 'gpt-4o-2024-05-13'} Approx num tokens: 186\n",
      "GOT DEBATER 1 RESPONSE\n",
      "{'model': 'gpt-4o-2024-05-13'} Approx num tokens: 1348\n",
      "GOT DEBATER 2 RESPONSE\n",
      "TRANSCRIPT: QUESTION: Who will be the Republican nominee for the 2024 presidential election?\n",
      "POSSIBLE ANSWERS:\n",
      "A: Donald Trump\n",
      "B: not Donald Trump\n",
      "## ARGUMENTS MADE SO FAR:\n",
      "\n",
      "### ARGUMENT FOR A:\n",
      "The most compelling argument for Donald Trump being the Republican nominee for the 2024 presidential election centers on several key factors: his strong base of loyal supporters, his influence within the Republican Party, his fundraising capabilities, and his unparalleled name recognition among American voters.\n",
      "\n",
      "1. **Strong Base of Loyal Supporters**: Donald Trump has cultivated a dedicated and fervent base of supporters who have remained loyal to him through both his presidency and his post-presidential years. This loyalty is demonstrated by the strong attendance at his rallies, active engagement on social media, and consistent support in various polls. A key principle in political campaigns is securing voter loyalty, and Trump's base provides a solid foundation that other Republican candidates may struggle to build.\n",
      "\n",
      "2. **Influence Within the Republican Party**: Over the last several years, Trump's influence within the Republican Party has only grown. Many Republican candidates and incumbents align themselves with Trump to secure his endorsement, which is seen as crucial for success in primaries and elections. This influence indicates that Trump has a significant hold over the party's direction and decisions, making it likely that the party would rally behind him as a nominee to maximize their electoral chances.\n",
      "\n",
      "3. **Fundraising Capabilities**: Trump has proven to be an exceptional fundraiser, drawing in substantial contributions from small-dollar donors and larger benefactors alike. His ability to generate significant campaign funds gives him a distinct advantage over potential rivals, allowing for robust campaign operations, extensive advertising, and increased voter outreach. This financial edge is indispensable in securing the nomination.\n",
      "\n",
      "4. **Unparalleled Name Recognition**: Donald Trump's name recognition is unrivaled among any potential Republican candidates. Having served as President and maintained a prominent public profile, Trump has the advantage of widespread recognition and familiarity, which is vital in a crowded primary field. Voters are more likely to support a candidate they know and trust, and Trump's high profile ensures that he remains a top contender for the nomination.\n",
      "\n",
      "5. **Defining the Political Agenda**: Since leaving office, Trump has continued to shape and define key issues within the Republican discourse, from immigration to economic policy. By remaining a central figure in these discussions, Trump maintains his relevance and demonstrates his continued ability to lead the party's platform, positioning himself as a natural choice for the nomination.\n",
      "\n",
      "6. **Success in Policy Implementation and Economic Growth**: Trump's presidency saw several significant policy implementations and historic economic growth before the pandemic. Many Republicans view his tax cuts, deregulation efforts, and judicial appointments as notable successes. This prior track record highlights his capability to lead and achieve the party's goals, making him an appealing candidate for a second term.\n",
      "\n",
      "In sum, Donald Trump's unwavering support base, profound influence within the Republican Party, substantial fundraising capabilities, high name recognition, continuous involvement in shaping the party's political agenda, and his legacy of policy wins and economic success make him the most compelling and likely choice for the Republican nominee in the 2024 presidential election.\n",
      "\n",
      "### ARGUMENT FOR B:\n",
      "The argument that Donald Trump will not be the Republican nominee for the 2024 presidential election is compelling when considering several critical factors: changing political dynamics, emerging candidates within the Republican Party, legal controversies, political fatigue, and the evolving priorities of Republican voters.\n",
      "\n",
      "1. **Changing Political Dynamics**: The political landscape is ever-changing, and so is the Republican Party. While Donald Trump has had immense influence, there is growing evidence that a significant portion of the party base and leadership seeks to move beyond his divisive legacy. New voices and figures are stepping up, and there is an increasing appetite for fresh leadership that can appeal more broadly in a general election.\n",
      "\n",
      "2. **Emerging Candidates**: Several prominent Republicans have emerged as strong contenders for the 2024 nomination. Figures such as Florida Governor Ron DeSantis, former Vice President Mike Pence, and Senator Tim Scott are gaining traction. These individuals offer the possibility of carrying forward Trump’s policy positions without carrying his personal and political baggage. Their leadership could reinvigorate the party and present a unifying force for the Republican base.\n",
      "\n",
      "3. **Legal Controversies**: Trump continues to face numerous legal challenges that could considerably hinder his ability to campaign effectively. Ongoing investigations, lawsuits, and potential criminal charges present substantial risks. These legal issues could not only distract from his campaign but could also damage his credibility and electability, leading the Republican Party to consider alternative candidates who are not burdened by such controversies.\n",
      "\n",
      "4. **Political Fatigue**: There is a growing sense of political fatigue among voters and party members alike when it comes to Donald Trump. After four years of a tumultuous presidency and the contentious aftermath of the 2020 election, many Republicans are wary of the constant media circus and divisiveness that accompanies Trump. A significant segment of the party is looking for a candidate who can deliver Trump’s policies but with a more disciplined and less polarizing approach.\n",
      "\n",
      "5. **Shifts in Voter Priorities**: The priorities of Republican voters are evolving. Issues such as economic policy, healthcare, and COVID-19 response are increasingly shaping voter concerns. While Trump’s rhetoric appeals to a portion of the electorate, other emerging candidates are demonstrating the ability to address these issues more substantively and effectively. This shift in voter priorities makes it plausible for a new leader to step up and gain the nomination.\n",
      "\n",
      "6. **Strategic Calculations**: The Republican Party is likely to make strategic calculations to maximize their chances in the general election. Considering that Trump lost the popular vote in both the 2016 and 2020 elections (though he won the Electoral College in 2016), party strategists might conclude that nominating a candidate with less polarizing appeal could be more advantageous. A candidate who can attract independent and swing voters while maintaining the core Republican base would likely be seen as a more strategic choice.\n",
      "\n",
      "7. **Internal Party Discontent**: There is notable discontent within the Republican ranks, especially among traditional conservatives and younger party members who seek to distance themselves from Trump’s brand of politics. High-profile criticisms from within the party, including from influential figures such as Mitt Romney and Liz Cheney, indicate a significant faction of the party is keen on moving in a different direction.\n",
      "\n",
      "In conclusion, considering the emergence of fresh Republican candidates, legal and political challenges surrounding Trump, growing political fatigue, evolving voter priorities, strategic calculations by the Republican establishment, and internal party discontent, it is highly plausible and even likely that the 2024 Republican nominee will not be Donald Trump. This next phase in Republican leadership may focus on maintaining the successful policies of the Trump era while embodying a more unifying and forward-thinking vision for the party's future.\n",
      "\n",
      "\n",
      "{'model': 'gpt-4o-2024-05-13'} Approx num tokens: 2722\n"
     ]
    }
   ],
   "source": [
    "j = Judge()\n",
    "d = Debate(\n",
    "    judge = Judge(),\n",
    "    debater_1 = Debater(),\n",
    "    debater_2 = Debater(),\n",
    ")\n",
    "trans = d.run(ques)"
   ]
  },
  {
   "cell_type": "code",
   "execution_count": 5,
   "metadata": {},
   "outputs": [
    {
     "name": "stdout",
     "output_type": "stream",
     "text": [
      "QUESTION: Who will be the Republican nominee for the 2024 presidential election?\n",
      "POSSIBLE ANSWERS:\n",
      "A: Donald Trump\n",
      "B: not Donald Trump\n",
      "## ARGUMENTS MADE SO FAR:\n",
      "\n",
      "### ARGUMENT FOR A:\n",
      "The most compelling argument for Donald Trump being the Republican nominee for the 2024 presidential election centers on several key factors: his strong base of loyal supporters, his influence within the Republican Party, his fundraising capabilities, and his unparalleled name recognition among American voters.\n",
      "\n",
      "1. **Strong Base of Loyal Supporters**: Donald Trump has cultivated a dedicated and fervent base of supporters who have remained loyal to him through both his presidency and his post-presidential years. This loyalty is demonstrated by the strong attendance at his rallies, active engagement on social media, and consistent support in various polls. A key principle in political campaigns is securing voter loyalty, and Trump's base provides a solid foundation that other Republican candidates may struggle to build.\n",
      "\n",
      "2. **Influence Within the Republican Party**: Over the last several years, Trump's influence within the Republican Party has only grown. Many Republican candidates and incumbents align themselves with Trump to secure his endorsement, which is seen as crucial for success in primaries and elections. This influence indicates that Trump has a significant hold over the party's direction and decisions, making it likely that the party would rally behind him as a nominee to maximize their electoral chances.\n",
      "\n",
      "3. **Fundraising Capabilities**: Trump has proven to be an exceptional fundraiser, drawing in substantial contributions from small-dollar donors and larger benefactors alike. His ability to generate significant campaign funds gives him a distinct advantage over potential rivals, allowing for robust campaign operations, extensive advertising, and increased voter outreach. This financial edge is indispensable in securing the nomination.\n",
      "\n",
      "4. **Unparalleled Name Recognition**: Donald Trump's name recognition is unrivaled among any potential Republican candidates. Having served as President and maintained a prominent public profile, Trump has the advantage of widespread recognition and familiarity, which is vital in a crowded primary field. Voters are more likely to support a candidate they know and trust, and Trump's high profile ensures that he remains a top contender for the nomination.\n",
      "\n",
      "5. **Defining the Political Agenda**: Since leaving office, Trump has continued to shape and define key issues within the Republican discourse, from immigration to economic policy. By remaining a central figure in these discussions, Trump maintains his relevance and demonstrates his continued ability to lead the party's platform, positioning himself as a natural choice for the nomination.\n",
      "\n",
      "6. **Success in Policy Implementation and Economic Growth**: Trump's presidency saw several significant policy implementations and historic economic growth before the pandemic. Many Republicans view his tax cuts, deregulation efforts, and judicial appointments as notable successes. This prior track record highlights his capability to lead and achieve the party's goals, making him an appealing candidate for a second term.\n",
      "\n",
      "In sum, Donald Trump's unwavering support base, profound influence within the Republican Party, substantial fundraising capabilities, high name recognition, continuous involvement in shaping the party's political agenda, and his legacy of policy wins and economic success make him the most compelling and likely choice for the Republican nominee in the 2024 presidential election.\n",
      "\n",
      "### ARGUMENT FOR B:\n",
      "The argument that Donald Trump will not be the Republican nominee for the 2024 presidential election is compelling when considering several critical factors: changing political dynamics, emerging candidates within the Republican Party, legal controversies, political fatigue, and the evolving priorities of Republican voters.\n",
      "\n",
      "1. **Changing Political Dynamics**: The political landscape is ever-changing, and so is the Republican Party. While Donald Trump has had immense influence, there is growing evidence that a significant portion of the party base and leadership seeks to move beyond his divisive legacy. New voices and figures are stepping up, and there is an increasing appetite for fresh leadership that can appeal more broadly in a general election.\n",
      "\n",
      "2. **Emerging Candidates**: Several prominent Republicans have emerged as strong contenders for the 2024 nomination. Figures such as Florida Governor Ron DeSantis, former Vice President Mike Pence, and Senator Tim Scott are gaining traction. These individuals offer the possibility of carrying forward Trump’s policy positions without carrying his personal and political baggage. Their leadership could reinvigorate the party and present a unifying force for the Republican base.\n",
      "\n",
      "3. **Legal Controversies**: Trump continues to face numerous legal challenges that could considerably hinder his ability to campaign effectively. Ongoing investigations, lawsuits, and potential criminal charges present substantial risks. These legal issues could not only distract from his campaign but could also damage his credibility and electability, leading the Republican Party to consider alternative candidates who are not burdened by such controversies.\n",
      "\n",
      "4. **Political Fatigue**: There is a growing sense of political fatigue among voters and party members alike when it comes to Donald Trump. After four years of a tumultuous presidency and the contentious aftermath of the 2020 election, many Republicans are wary of the constant media circus and divisiveness that accompanies Trump. A significant segment of the party is looking for a candidate who can deliver Trump’s policies but with a more disciplined and less polarizing approach.\n",
      "\n",
      "5. **Shifts in Voter Priorities**: The priorities of Republican voters are evolving. Issues such as economic policy, healthcare, and COVID-19 response are increasingly shaping voter concerns. While Trump’s rhetoric appeals to a portion of the electorate, other emerging candidates are demonstrating the ability to address these issues more substantively and effectively. This shift in voter priorities makes it plausible for a new leader to step up and gain the nomination.\n",
      "\n",
      "6. **Strategic Calculations**: The Republican Party is likely to make strategic calculations to maximize their chances in the general election. Considering that Trump lost the popular vote in both the 2016 and 2020 elections (though he won the Electoral College in 2016), party strategists might conclude that nominating a candidate with less polarizing appeal could be more advantageous. A candidate who can attract independent and swing voters while maintaining the core Republican base would likely be seen as a more strategic choice.\n",
      "\n",
      "7. **Internal Party Discontent**: There is notable discontent within the Republican ranks, especially among traditional conservatives and younger party members who seek to distance themselves from Trump’s brand of politics. High-profile criticisms from within the party, including from influential figures such as Mitt Romney and Liz Cheney, indicate a significant faction of the party is keen on moving in a different direction.\n",
      "\n",
      "In conclusion, considering the emergence of fresh Republican candidates, legal and political challenges surrounding Trump, growing political fatigue, evolving voter priorities, strategic calculations by the Republican establishment, and internal party discontent, it is highly plausible and even likely that the 2024 Republican nominee will not be Donald Trump. This next phase in Republican leadership may focus on maintaining the successful policies of the Trump era while embodying a more unifying and forward-thinking vision for the party's future.\n",
      "\n",
      "\n",
      "## JUDGE PROBABILITY ESTIMATES:\n",
      "{'A': 0.9975273771277537, 'B': 0.002472622872246268}\n"
     ]
    }
   ],
   "source": [
    "print(trans)"
   ]
  }
 ],
 "metadata": {
  "kernelspec": {
   "display_name": "Python 3",
   "language": "python",
   "name": "python3"
  },
  "language_info": {
   "codemirror_mode": {
    "name": "ipython",
    "version": 3
   },
   "file_extension": ".py",
   "mimetype": "text/x-python",
   "name": "python",
   "nbconvert_exporter": "python",
   "pygments_lexer": "ipython3",
   "version": "3.11.0"
  }
 },
 "nbformat": 4,
 "nbformat_minor": 2
}
