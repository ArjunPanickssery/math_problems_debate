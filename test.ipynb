{
 "cells": [
  {
   "cell_type": "code",
   "execution_count": null,
   "metadata": {},
   "outputs": [],
   "source": [
    "import torch\n",
    "torch.set_grad_enabled(False)\n",
    "\n",
    "from data import load_data\n",
    "from experiments import run_debate\n",
    "from model_wrappers import Llama2Wrapper, Llama3Wrapper\n",
    "\n",
    "%load_ext autoreload\n",
    "%autoreload 2"
   ]
  },
  {
   "cell_type": "code",
   "execution_count": null,
   "metadata": {},
   "outputs": [],
   "source": [
    "train_data, test_data = load_data()"
   ]
  },
  {
   "cell_type": "code",
   "execution_count": null,
   "metadata": {},
   "outputs": [],
   "source": [
    "from transformers import BitsAndBytesConfig\n",
    "# quant_config  = HqqConfig(nbits=8, group_size=64, quant_zero=False, quant_scale=False, axis=0) #axis=0 is used by default\n",
    "quant_config = BitsAndBytesConfig(load_in_8bit=True)\n",
    "debater_one = Llama2Wrapper.from_hf(\"llama2_7b\", \"meta-llama/Llama-2-7b-chat-hf\", \n",
    "                attn_implementation='flash_attention_2', \n",
    "                quantization_config=quant_config)"
   ]
  },
  {
   "cell_type": "code",
   "execution_count": null,
   "metadata": {},
   "outputs": [],
   "source": [
    "debater_two = judge = Llama3Wrapper.from_hf(\"llama3_8b\", \"meta-llama/Meta-Llama-3-8B-Instruct\",\n",
    "            attn_implementation='flash_attention_2', \n",
    "            quantization_config=quant_config)"
   ]
  },
  {
   "cell_type": "code",
   "execution_count": null,
   "metadata": {},
   "outputs": [],
   "source": [
    "toks = debater_one.model.tokenizer('Hello', return_tensors='pt')['input_ids'].cuda()\n",
    "logits = debater_one.model.model.generate(toks, max_new_tokens=1, return_dict_in_generate=True, output_scores=True,\n",
    "                                          temperature=1.0)['scores'][0][0]"
   ]
  },
  {
   "cell_type": "code",
   "execution_count": null,
   "metadata": {},
   "outputs": [],
   "source": [
    "logits.softmax(dim=0)[2850]"
   ]
  },
  {
   "cell_type": "code",
   "execution_count": null,
   "metadata": {},
   "outputs": [],
   "source": [
    "run_debate(debater_one, debater_two, judge, train_data[:5], \"results.json\")"
   ]
  }
 ],
 "metadata": {
  "kernelspec": {
   "display_name": "venv",
   "language": "python",
   "name": "python3"
  },
  "language_info": {
   "codemirror_mode": {
    "name": "ipython",
    "version": 3
   },
   "file_extension": ".py",
   "mimetype": "text/x-python",
   "name": "python",
   "nbconvert_exporter": "python",
   "pygments_lexer": "ipython3",
   "version": "3.10.10"
  }
 },
 "nbformat": 4,
 "nbformat_minor": 2
}
