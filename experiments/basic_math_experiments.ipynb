{
 "cells": [
  {
   "cell_type": "code",
   "execution_count": null,
   "metadata": {},
   "outputs": [],
   "source": [
    "from solib.data.math import test_data, train_data\n",
    "from solib.protocols.common import Judge\n",
    "from solib.protocols.debate import Debate, Debater\n",
    "from solib.protocols.consultancy import Consultancy\n",
    "from solib.protocols.variants.common import JustAskProbabilityJudge\n",
    "from solib.protocols.variants.debate import SimultaneousDebate"
   ]
  }
 ],
 "metadata": {
  "language_info": {
   "name": "python"
  }
 },
 "nbformat": 4,
 "nbformat_minor": 2
}
