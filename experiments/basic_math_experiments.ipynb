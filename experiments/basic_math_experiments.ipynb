{
 "cells": [
  {
   "cell_type": "code",
   "execution_count": null,
   "metadata": {},
   "outputs": [],
   "source": [
    "from src.data.math import test_data, train_data\n",
    "from src.protocols.common import Judge\n",
    "from src.protocols.debate import Debate, Debater\n",
    "from src.protocols.consultancy import Consultancy\n",
    "from src.protocols.variants.common import JustAskProbabilityJudge\n",
    "from src.protocols.variants.debate import SimultaneousDebate\n"
   ]
  }
 ],
 "metadata": {
  "language_info": {
   "name": "python"
  }
 },
 "nbformat": 4,
 "nbformat_minor": 2
}
